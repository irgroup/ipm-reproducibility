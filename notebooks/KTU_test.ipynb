{
 "cells": [
  {
   "cell_type": "code",
   "execution_count": 1,
   "id": "10eae597-31aa-41e6-adff-816d985b6f19",
   "metadata": {
    "tags": []
   },
   "outputs": [],
   "source": [
    "from repro_eval.Evaluator import RpdEvaluator, RplEvaluator\n",
    "from repro_eval.util import arp, arp_scores\n",
    "from repro_eval.util import print_base_adv, print_simple_line\n",
    "from repro_eval.util import trim\n",
    "\n",
    "import pytrec_eval\n",
    "import numpy\n",
    "import operator\n",
    "\n",
    "import collections"
   ]
  },
  {
   "cell_type": "code",
   "execution_count": 2,
   "id": "ca803d12-09ea-431b-8278-f5ffd500e178",
   "metadata": {},
   "outputs": [],
   "source": [
    "qrels_file_path = '../../data/core18/qrels/qrels_common_core_2018_321_363.txt'\n",
    "run_file_path = '../../data/core18/run_baseline_timo/run_timo_321_363'"
   ]
  },
  {
   "cell_type": "code",
   "execution_count": 3,
   "id": "227eebca-d712-48eb-a180-10239bc050b4",
   "metadata": {},
   "outputs": [],
   "source": [
    "# Import the original run\n",
    "# The run is a nested dictionary with: key: topic ids, value: a dictionary\n",
    "# The nested dictionary has: key: doc ids, value: doc scores\n",
    "with open(run_file_path, 'r') as f_run:\n",
    "    run_orig = pytrec_eval.parse_run(f_run)\n",
    "\n",
    "# Import the qrels\n",
    "# The qrels is a nested dictionary with: key: topic ids, value: a dictionary\n",
    "# The nested dictionary has: key: doc ids, value: relevance labels\n",
    "with open(qrels_file_path, 'r') as f_qrel:\n",
    "    qrels = pytrec_eval.parse_qrel(f_qrel)"
   ]
  },
  {
   "cell_type": "code",
   "execution_count": 4,
   "id": "b0a398df-d5cd-47b5-a066-dcaa940430f8",
   "metadata": {},
   "outputs": [
    {
     "name": "stdout",
     "output_type": "stream",
     "text": [
      "['321' '363']\n"
     ]
    }
   ],
   "source": [
    "# Initialize the modified run\n",
    "modified_run = collections.defaultdict(dict)\n",
    "\n",
    "# Get the list of topic ids\n",
    "topic_ids = numpy.array(list(run_orig.keys()))\n",
    "\n",
    "print(topic_ids)"
   ]
  },
  {
   "cell_type": "code",
   "execution_count": 5,
   "id": "8d3a8ac8-caf7-44d3-9427-cf420acc76d4",
   "metadata": {},
   "outputs": [],
   "source": [
    "# topics which need to be modified\n",
    "for current_topic_id in topic_ids:\n",
    "\n",
    "    # Get the list of document ids and scores for the given topic id\n",
    "    # This is represented as a list of tuples (doc_id, score)\n",
    "    current_ranking = list(run_orig[current_topic_id].items())\n",
    "    \n",
    "    # Sort the ranking as trec_eval\n",
    "    # sort the tuples, score descending, doc_id descending\n",
    "    # this is the same ordering used by trec_eval\n",
    "    current_ranking.sort(key = operator.itemgetter(0), reverse = True)         # doc_id descending\n",
    "    current_ranking.sort(key = operator.itemgetter(1), reverse = True)         # score descending\n",
    "\n",
    "    # Create a copy of the current ranking\n",
    "    # The score is copied as a string\n",
    "    modified_ranking = numpy.array(current_ranking)\n",
    "    \n",
    "    # Add the modified ranking to the dictionary\n",
    "    # for each element of the new ranking\n",
    "    for row in modified_ranking:\n",
    "        # get the current document id\n",
    "        current_doc_id = row[0]\n",
    "        # get the current document score\n",
    "        current_score = row[1]\n",
    "        # add the element (doc_id, score) to the run dictionary\n",
    "        # the score has to be converted to float\n",
    "        modified_run[current_topic_id][current_doc_id] = float(current_score)"
   ]
  },
  {
   "cell_type": "code",
   "execution_count": 6,
   "id": "5463f652-6c72-488d-824e-463c46ac8f54",
   "metadata": {},
   "outputs": [
    {
     "name": "stdout",
     "output_type": "stream",
     "text": [
      "defaultdict(<class 'dict'>, {'321': {'e9aea1113e11f4ee20694f42e8505d85': 21.8298, '81a3cf19017aca2cc50bcff202719ffe': 21.796301, '34c01b3aa97d1257ced5bb4fe7fda816': 21.734699, '46645b7b3bc0b5286ee283f1fb3e0532': 21.734697, '44e6fb86af809b7d01e68fa68f3aa231': 21.734697, 'a1d50a2ee98c7327b9fe4af429687acd': 21.734695, '5845ed2da07a29ad086f2d116113c320': 20.6903, 'aaa6d7ebbdb2318e4339ad47e2e00ff6': 20.690298, 'eacd327b20aa77a2aa909596ae336497': 20.3053, '3ee24c80-7d84-11e1-a01f-52d5c6187537': 20.0257, '705b0b6c9f00adb467be285e36dca522': 20.020901, 'ebf573d0-50dd-11e1-bd4f-8a7d53f6d6c2': 19.8263, '70c1790a-45d6-11e1-8cb4-cd666424bf3a': 19.590599, '550907ec43d4712f37f18867afb01739': 19.515699, 'cc01db418210d9797784adfb3f14bd39': 19.2787, 'a6f35002-8ad2-11e1-b132-eab19f4e8b2e': 19.1182, 'e2750f602aca39c08ce6b4220ade59aa': 19.026199, '7468dad4-76a1-11e1-862c-76c4e0e725cd': 18.869301, '8e123fde1ffaaf2184f01e00fee60810': 18.8561, 'aab75b44-b971-11e5-85cd-5ad59bc19432': 18.841801}, '363': {'2686c2d4-2b2c-11e5-bd33-395c05608059': 20.311199, '7043ad12-9db3-11e4-bcfb-059ec7a93ddc': 19.282801, '4b6b7f53d12e7b327c53eea0f41a67b2': 18.905001, 'eb65241e-1bfb-11e5-93b7-5eddc056ad8a': 18.902, '61d983e5a1fe6acdaa6396cba48a1cdb': 18.6784, 'a557e75e-8f3e-11e3-b46a-5a3d0d2130da': 18.527, '4354d59c8716e8cada3e01167cbc6e1f': 18.4653, 'a435f21ab36d7b6bc8edcdc27ad2e17f': 18.4468, 'e18a0e2e-d760-11e6-9a36-1d296534b31e': 18.413, '2f6f275e-dfe2-11e5-8d98-4b3d9215ade1': 18.368299, '60c539a6-9b2d-11e4-a7ee-526210d665b4': 18.1854, 'a414f3d2-107e-11e6-8967-7ac733c56f12': 18.07, '19d1b0803c05919bcd72c6888d4c9a55': 17.9606, '0d337920-4f67-11e6-a422-83ab49ed5e6a': 17.800501, 'dbe4d106-9cf3-11e4-96cc-e858eba91ced': 17.7798, '1c3f797e-1501-11e5-89f3-61410da94eb1': 17.7628, '9c491ad8-b21b-11e4-827f-93f454140e2b': 17.5839, 'd9fdf6c4-9b1d-11e4-96cc-e858eba91ced': 17.469299, '4398c84e-81da-11e6-a52d-9a865a0ed0d4': 17.378901, '3b245fe0-9e54-11e4-96cc-e858eba91ced': 16.838699}})\n"
     ]
    }
   ],
   "source": [
    "print(modified_run)"
   ]
  },
  {
   "cell_type": "code",
   "execution_count": 7,
   "id": "97524ccb-df15-4c2f-bb07-d0dd8d628bcb",
   "metadata": {},
   "outputs": [
    {
     "name": "stdout",
     "output_type": "stream",
     "text": [
      "defaultdict(<class 'dict'>, {'321': {'e9aea1113e11f4ee20694f42e8505d85': 21.8298, '81a3cf19017aca2cc50bcff202719ffe': 21.796301, '34c01b3aa97d1257ced5bb4fe7fda816': 21.734699, '44e6fb86af809b7d01e68fa68f3aa231': 21.734697, '46645b7b3bc0b5286ee283f1fb3e0532': 21.734697, 'a1d50a2ee98c7327b9fe4af429687acd': 21.734695, '5845ed2da07a29ad086f2d116113c320': 20.6903, 'aaa6d7ebbdb2318e4339ad47e2e00ff6': 20.690298, 'eacd327b20aa77a2aa909596ae336497': 20.3053, '3ee24c80-7d84-11e1-a01f-52d5c6187537': 20.0257, '705b0b6c9f00adb467be285e36dca522': 20.020901, 'ebf573d0-50dd-11e1-bd4f-8a7d53f6d6c2': 19.8263, '70c1790a-45d6-11e1-8cb4-cd666424bf3a': 19.590599, '550907ec43d4712f37f18867afb01739': 19.515699, 'cc01db418210d9797784adfb3f14bd39': 19.2787, 'a6f35002-8ad2-11e1-b132-eab19f4e8b2e': 19.1182, 'e2750f602aca39c08ce6b4220ade59aa': 19.026199, '7468dad4-76a1-11e1-862c-76c4e0e725cd': 18.869301, '8e123fde1ffaaf2184f01e00fee60810': 18.8561, 'aab75b44-b971-11e5-85cd-5ad59bc19432': 18.841801}, '363': {'2686c2d4-2b2c-11e5-bd33-395c05608059': 20.311199, '7043ad12-9db3-11e4-bcfb-059ec7a93ddc': 19.282801, '4b6b7f53d12e7b327c53eea0f41a67b2': 18.905001, 'eb65241e-1bfb-11e5-93b7-5eddc056ad8a': 18.902, '61d983e5a1fe6acdaa6396cba48a1cdb': 18.6784, 'a557e75e-8f3e-11e3-b46a-5a3d0d2130da': 18.527, '4354d59c8716e8cada3e01167cbc6e1f': 18.4653, 'a435f21ab36d7b6bc8edcdc27ad2e17f': 18.4468, 'e18a0e2e-d760-11e6-9a36-1d296534b31e': 18.413, '2f6f275e-dfe2-11e5-8d98-4b3d9215ade1': 18.368299, '60c539a6-9b2d-11e4-a7ee-526210d665b4': 18.1854, 'a414f3d2-107e-11e6-8967-7ac733c56f12': 18.07, '19d1b0803c05919bcd72c6888d4c9a55': 17.9606, '0d337920-4f67-11e6-a422-83ab49ed5e6a': 17.800501, 'dbe4d106-9cf3-11e4-96cc-e858eba91ced': 17.7798, '1c3f797e-1501-11e5-89f3-61410da94eb1': 17.7628, '9c491ad8-b21b-11e4-827f-93f454140e2b': 17.5839, 'd9fdf6c4-9b1d-11e4-96cc-e858eba91ced': 17.469299, '4398c84e-81da-11e6-a52d-9a865a0ed0d4': 17.378901, '3b245fe0-9e54-11e4-96cc-e858eba91ced': 16.838699}})\n"
     ]
    }
   ],
   "source": [
    "print(run_orig)"
   ]
  },
  {
   "cell_type": "code",
   "execution_count": 8,
   "id": "27182ccc-6b92-470b-9ccd-106752f7f122",
   "metadata": {},
   "outputs": [
    {
     "name": "stdout",
     "output_type": "stream",
     "text": [
      "True\n"
     ]
    }
   ],
   "source": [
    "print(modified_run == run_orig)"
   ]
  },
  {
   "cell_type": "code",
   "execution_count": 9,
   "id": "02620265-8508-44c6-9b94-baf86c2c701f",
   "metadata": {},
   "outputs": [],
   "source": [
    "# Initialize the Rpd evaluator object\n",
    "rpd_eval = RpdEvaluator()\n",
    "# Set all the field of the rpd object\n",
    "rpd_eval.run_b_orig = run_orig\n",
    "rpd_eval.run_b_rep = modified_run\n",
    "\n",
    "rpd_eval.rel_eval = pytrec_eval.RelevanceEvaluator(qrels, pytrec_eval.supported_measures)\n",
    "\n",
    "rpd_eval.trim()\n",
    "rpd_eval.evaluate()"
   ]
  },
  {
   "cell_type": "code",
   "execution_count": 10,
   "id": "0edc2e98-ef8b-4870-80d4-8dcf866174c4",
   "metadata": {},
   "outputs": [],
   "source": [
    "# Compute Kndall's tau\n",
    "ktu = rpd_eval.ktau_union()"
   ]
  },
  {
   "cell_type": "code",
   "execution_count": 11,
   "id": "37a1987d-cfdf-401f-86be-3af4d9ce8d07",
   "metadata": {},
   "outputs": [
    {
     "name": "stdout",
     "output_type": "stream",
     "text": [
      "{'baseline': {'321': 0.98947368421053, '363': 1.0}}\n"
     ]
    }
   ],
   "source": [
    "print(ktu)"
   ]
  },
  {
   "cell_type": "code",
   "execution_count": null,
   "id": "0a3f33c6-dbd1-4907-9132-a62f086509ba",
   "metadata": {},
   "outputs": [],
   "source": [
    "# Import from files\n",
    "rpd_eval = RpdEvaluator(qrel_orig_path=qrels_file_path,\n",
    "                        run_b_orig_path=run_file_path,\n",
    "                        run_b_rep_path=run_file_path)"
   ]
  },
  {
   "cell_type": "code",
   "execution_count": null,
   "id": "5bccb70c-0caf-45f1-bca3-a8dd912fde8c",
   "metadata": {},
   "outputs": [],
   "source": [
    "rpd_eval.trim()\n",
    "rpd_eval.evaluate()\n",
    "\n",
    "# KTU\n",
    "ktau = rpd_eval.ktau_union()\n",
    "print(\"Kendall's tau Union (KTU)\")\n",
    "print('------------------------------------------------------------------')\n",
    "for topic, value in ktau.get('baseline').items():\n",
    "    print_base_adv(topic, 'KTU', value, ktau.get('baseline').get(topic))\n",
    "print_base_adv('ARP', 'KTU', arp(ktau.get('baseline')), arp(ktau.get('baseline')))"
   ]
  },
  {
   "cell_type": "code",
   "execution_count": null,
   "id": "25f5faec-408c-4e93-b048-bca8825561f1",
   "metadata": {},
   "outputs": [],
   "source": []
  }
 ],
 "metadata": {
  "kernelspec": {
   "display_name": "Python 3",
   "language": "python",
   "name": "python3"
  },
  "language_info": {
   "codemirror_mode": {
    "name": "ipython",
    "version": 3
   },
   "file_extension": ".py",
   "mimetype": "text/x-python",
   "name": "python",
   "nbconvert_exporter": "python",
   "pygments_lexer": "ipython3",
   "version": "3.9.5"
  }
 },
 "nbformat": 4,
 "nbformat_minor": 5
}
