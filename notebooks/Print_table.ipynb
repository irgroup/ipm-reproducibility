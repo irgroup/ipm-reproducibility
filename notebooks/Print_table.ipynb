{
 "cells": [
  {
   "cell_type": "markdown",
   "id": "91671434-f605-440b-ab11-8f1a288b43e4",
   "metadata": {},
   "source": [
    "<h1>Load Data and Print Latex Table</h1>\n",
    "<p>This script:</p>\n",
    "<ol>\n",
    "    <li>Import measures scores with pickle format;</li>\n",
    "    <li>Extract values for swap and replacements;</li>\n",
    "</ol>"
   ]
  },
  {
   "cell_type": "code",
   "execution_count": 1,
   "id": "4fcb9002-6ba5-4771-b40d-7e0ee880e5d2",
   "metadata": {},
   "outputs": [],
   "source": [
    "import pickle"
   ]
  },
  {
   "cell_type": "markdown",
   "id": "e6648857-9bea-40d8-84cb-1fbd14a685d4",
   "metadata": {},
   "source": [
    "<h3>Parameters:</h3>"
   ]
  },
  {
   "cell_type": "code",
   "execution_count": 2,
   "id": "51a5e2a8-edc4-46d2-b7a8-621418e36d82",
   "metadata": {},
   "outputs": [],
   "source": [
    "# Run name: BM25 or RM3\n",
    "run_name = 'BM25'\n",
    "# Base path: path to the folder with files to load\n",
    "base_path = './measure_scores/' + run_name +'/'"
   ]
  },
  {
   "cell_type": "code",
   "execution_count": 3,
   "id": "be97e644-68a0-488d-bb2b-69d17d390be6",
   "metadata": {},
   "outputs": [],
   "source": [
    "# Kendall's tau file\n",
    "file_name = base_path + run_name + '_ktu.p'\n",
    "# Load Kendall's tau values\n",
    "with open(file_name, 'rb') as f:\n",
    "    ktu_scores = pickle.load(f)"
   ]
  },
  {
   "cell_type": "code",
   "execution_count": 4,
   "id": "36faa3eb-3125-40d0-ba0b-123948561629",
   "metadata": {},
   "outputs": [
    {
     "name": "stdout",
     "output_type": "stream",
     "text": [
      "{'baseline': {'363': 1.0, '321': 1.0}}\n"
     ]
    }
   ],
   "source": [
    "print(ktu_scores[(0, 0, 'worse')])"
   ]
  },
  {
   "cell_type": "code",
   "execution_count": null,
   "id": "d73640b5-cef2-43b7-a603-29ec2f18698a",
   "metadata": {},
   "outputs": [],
   "source": []
  }
 ],
 "metadata": {
  "kernelspec": {
   "display_name": "Python 3",
   "language": "python",
   "name": "python3"
  },
  "language_info": {
   "codemirror_mode": {
    "name": "ipython",
    "version": 3
   },
   "file_extension": ".py",
   "mimetype": "text/x-python",
   "name": "python",
   "nbconvert_exporter": "python",
   "pygments_lexer": "ipython3",
   "version": "3.9.5"
  }
 },
 "nbformat": 4,
 "nbformat_minor": 5
}
