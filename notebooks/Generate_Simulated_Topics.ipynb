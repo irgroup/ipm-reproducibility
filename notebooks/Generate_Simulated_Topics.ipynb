{
 "cells": [
  {
   "cell_type": "markdown",
   "id": "f85ed021-97d4-42bb-b645-5541c5a67429",
   "metadata": {},
   "source": [
    "<h1>Generate Simulated Single Topics</h1>\n",
    "<p>Script to generate simulated topics and qrels with different distribution of relevant documents</p>"
   ]
  },
  {
   "cell_type": "code",
   "execution_count": 1,
   "id": "3aa490f3-1e1c-46ca-9113-550ab4913451",
   "metadata": {},
   "outputs": [],
   "source": [
    "from uuid import uuid4\n",
    "from numpy import random"
   ]
  },
  {
   "cell_type": "markdown",
   "id": "65b9237a-cc11-419f-8908-24f4890befa4",
   "metadata": {},
   "source": [
    "<h3>Parameters</h3>"
   ]
  },
  {
   "cell_type": "code",
   "execution_count": 2,
   "id": "001f792b-d8ef-40e5-9470-ebdbdeda6c3f",
   "metadata": {},
   "outputs": [],
   "source": [
    "# Length of the run\n",
    "RUN_LENGTH = 1000\n",
    "# Number of relevant documents\n",
    "NUM_REL = 100"
   ]
  },
  {
   "cell_type": "markdown",
   "id": "867e26f0-2033-4934-b5d5-6c43afc8b6d8",
   "metadata": {},
   "source": [
    "<h3>Topics with Recall Base 1</h3>\n",
    "<p>Generate topics which retrieve all the relevant documents.</p>"
   ]
  },
  {
   "cell_type": "code",
   "execution_count": 3,
   "id": "b78d429e-de3b-464d-b468-bd8e5f9557c5",
   "metadata": {},
   "outputs": [],
   "source": [
    "# Topics to be generated\n",
    "# sim_topic_ideal_rb1_100: all documents are at the top of the ranking\n",
    "# sim_topic_reversed_rb1_100: all documents are at the and of the ranking\n",
    "# sim_topic_realistic_rb1_100: document are retrieved through the ranking with decreasing probability \n",
    "\n",
    "# Initialize lists of tuples to store rankings\n",
    "ideal_ranking = [None] * RUN_LENGTH\n",
    "reversed_ranking = [None] * RUN_LENGTH\n",
    "\n",
    "# Define a list of relevant and non relevant documents\n",
    "rel_document = []\n",
    "nrel_document = []\n",
    "\n",
    "with open('sim_topic_ideal_rb1_100.txt', 'w') as f_ideal, open('sim_qrel_100.txt', 'w') as f_qrels:\n",
    "    \n",
    "    # Variable to count relevant documents\n",
    "    rel_cnt = 0\n",
    "    # For each rank position\n",
    "    for r in range(0, RUN_LENGTH):\n",
    "        # Set the topic id\n",
    "        topic = 1\n",
    "        # Define the document id\n",
    "        docid = uuid4().hex\n",
    "        # Q0 entry required by TREC run format\n",
    "        q0 = 'Q0'\n",
    "        # Set the rank position equal to r\n",
    "        ideal_rank = r\n",
    "        reversed_rank = RUN_LENGTH - r\n",
    "        # Fake score compute as a function of the rank position\n",
    "        ideal_score = (RUN_LENGTH - r) / RUN_LENGTH\n",
    "        reversed_score = r / RUN_LENGTH\n",
    "        # Set the run name as the file name\n",
    "        tag = 'sim_topic_ideal_rb1_100'\n",
    "        \n",
    "        # Write the ideal run\n",
    "        f_ideal.write(' '.join([str(topic), q0, docid, str(ideal_rank), str(ideal_score), tag, '\\n']))\n",
    "        \n",
    "        # Store the ranking in a list of tuples\n",
    "        # Ideal ranking\n",
    "        ideal_ranking[r] = (topic, docid, ideal_rank, ideal_score)\n",
    "        # Reversed ranking\n",
    "        reversed_ranking[r] = (topic, docid, reversed_rank, reversed_score)\n",
    "        \n",
    "        # Write the qrels file\n",
    "        if rel_cnt < NUM_REL:\n",
    "            # Set relevance to 1\n",
    "            rel = 1\n",
    "            # Add the document to the list of relevant documents\n",
    "            rel_document.append(docid)\n",
    "        else:\n",
    "            # Set relevance to 0\n",
    "            rel = 0\n",
    "            # Append the document id to the list of non relevant documents\n",
    "            nrel_document.append(docid)\n",
    "        \n",
    "        # Write the qrel line\n",
    "        f_qrels.write(' '.join([str(topic), '0', docid, str(rel), '\\n']))\n",
    "        # Update the document counter\n",
    "        rel_cnt += 1"
   ]
  },
  {
   "cell_type": "code",
   "execution_count": 4,
   "id": "dce1e9be-c4f9-446d-a2a7-d9140d4216ae",
   "metadata": {},
   "outputs": [],
   "source": [
    "# Sort and write the reversed ranking\n",
    "# Sort by the third element, i.e., the rank position\n",
    "sorted_reversed_ranking = sorted(reversed_ranking, key=lambda x: x[2])\n",
    "\n",
    "# Print the reversed ranking in a file\n",
    "with open('sim_topic_reversed_rb1_100.txt', 'w') as f_reversed:\n",
    "    \n",
    "    # for each rank position\n",
    "    for r in range(0, RUN_LENGTH):\n",
    "        \n",
    "        # Get the corresponding fields\n",
    "        topic = sorted_reversed_ranking[r][0]\n",
    "        q0 = 'Q0'\n",
    "        docid = sorted_reversed_ranking[r][1]\n",
    "        rank = sorted_reversed_ranking[r][2]\n",
    "        score = sorted_reversed_ranking[r][3]\n",
    "        # Set the run name as the file name\n",
    "        tag = 'sim_topic_reversed_rb1_100'\n",
    "        \n",
    "        # Write the ideal run\n",
    "        f_reversed.write(' '.join([str(topic), q0, docid, str(rank), str(score), tag, '\\n']))"
   ]
  },
  {
   "cell_type": "code",
   "execution_count": 5,
   "id": "2207c5f1-2c8c-4765-b45b-7f55d52d0f8a",
   "metadata": {},
   "outputs": [],
   "source": [
    "# Generate the realistic ranking\n",
    "# We need 100 rank positions for the relevant documents\n",
    "# Beta parameter = 1/lambda (mean)\n",
    "beta = 75\n",
    "\n",
    "# Initialize a set of rank position\n",
    "relevant_rank_positions = set()\n",
    "\n",
    "while len(relevant_rank_positions) < NUM_REL:\n",
    "    \n",
    "    # Generate a random rank position with exponential distribution\n",
    "    rank_position = int(round(random.exponential(beta)))\n",
    "    \n",
    "    if rank_position > 0 and rank_position <= RUN_LENGTH:\n",
    "    \n",
    "        # Add the new rank position to the set\n",
    "        relevant_rank_positions.add(rank_position)\n"
   ]
  },
  {
   "cell_type": "code",
   "execution_count": 6,
   "id": "8c243079-318b-404f-a9ec-3434a180aa44",
   "metadata": {},
   "outputs": [],
   "source": [
    "# Generate the realistic ranking\n",
    "with open('sim_topic_realistic_rb1_100.txt', 'w') as f_realistic:\n",
    "    \n",
    "    # For each rank position\n",
    "    for r in range(0, RUN_LENGTH):\n",
    "        # Set the topic id\n",
    "        topic = 1\n",
    "        # Q0 entry required by TREC run format\n",
    "        q0 = 'Q0'\n",
    "        # Set the rank position equal to r\n",
    "        rank = r\n",
    "        # Fake score compute as a function of the rank position\n",
    "        score = (RUN_LENGTH - r) / RUN_LENGTH\n",
    "        # Set the run name as the file name\n",
    "        tag = 'sim_topic_realistic_rb1_100'\n",
    "        \n",
    "        # Get the correct document id\n",
    "        if r in relevant_rank_positions:\n",
    "            # The document should be relevant\n",
    "            docid = rel_document.pop()\n",
    "        else:\n",
    "            # The document should be not relevant\n",
    "            docid = nrel_document.pop()\n",
    "        \n",
    "        # Write the ideal run\n",
    "        f_realistic.write(' '.join([str(topic), q0, docid, str(rank), str(score), tag, '\\n']))"
   ]
  },
  {
   "cell_type": "markdown",
   "id": "e97da43c-a8d2-4932-8173-96f319525f69",
   "metadata": {},
   "source": [
    "<h3>Topics with Recall Base &#60; 1</h3>\n",
    "<p>We simply need to create extra documents that are added to the qrels.</p>"
   ]
  },
  {
   "cell_type": "code",
   "execution_count": 7,
   "id": "3ca75f29-8e13-47d4-8297-97c32d2a55e7",
   "metadata": {},
   "outputs": [],
   "source": [
    "# Copy the qrel file\n",
    "!cp sim_qrel_100.txt sim_qrel_200.txt"
   ]
  },
  {
   "cell_type": "code",
   "execution_count": 8,
   "id": "e3e86339-a401-4c0c-b98f-bc9fc46e0d5e",
   "metadata": {},
   "outputs": [],
   "source": [
    "# Extra relevant documents in the qrels\n",
    "# Append the extra relevant documents in the qrels\n",
    "with open('sim_qrel_200.txt', 'a') as f_qrels:\n",
    "\n",
    "    for r in range(0, NUM_REL):\n",
    "        topic = 1\n",
    "        docid = uuid4().hex\n",
    "        \n",
    "        rel = 1\n",
    "        f_qrels.write(' '.join([str(topic), '0', docid, str(rel), '\\n']))"
   ]
  },
  {
   "cell_type": "code",
   "execution_count": null,
   "id": "89984031-d976-4a1a-8466-29331c6a5f1e",
   "metadata": {},
   "outputs": [],
   "source": []
  }
 ],
 "metadata": {
  "kernelspec": {
   "display_name": "Python 3",
   "language": "python",
   "name": "python3"
  },
  "language_info": {
   "codemirror_mode": {
    "name": "ipython",
    "version": 3
   },
   "file_extension": ".py",
   "mimetype": "text/x-python",
   "name": "python",
   "nbconvert_exporter": "python",
   "pygments_lexer": "ipython3",
   "version": "3.9.5"
  }
 },
 "nbformat": 4,
 "nbformat_minor": 5
}
